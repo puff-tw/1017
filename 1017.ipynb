{
  "nbformat": 4,
  "nbformat_minor": 0,
  "metadata": {
    "colab": {
      "provenance": [],
      "collapsed_sections": [],
      "authorship_tag": "ABX9TyPOwWA867/Dfia6FHu660Zz",
      "include_colab_link": true
    },
    "kernelspec": {
      "name": "python3",
      "display_name": "Python 3"
    },
    "language_info": {
      "name": "python"
    }
  },
  "cells": [
    {
      "cell_type": "markdown",
      "metadata": {
        "id": "view-in-github",
        "colab_type": "text"
      },
      "source": [
        "<a href=\"https://colab.research.google.com/github/puff-tw/1017/blob/main/1017.ipynb\" target=\"_parent\"><img src=\"https://colab.research.google.com/assets/colab-badge.svg\" alt=\"Open In Colab\"/></a>"
      ]
    },
    {
      "cell_type": "code",
      "execution_count": null,
      "metadata": {
        "id": "t_MY5Peyh9wN"
      },
      "outputs": [],
      "source": []
    },
    {
      "cell_type": "markdown",
      "source": [
        "**LATEX Math**\n",
        "\n",
        "$ Area = \\frac{1}{2} \\pi r 2 $"
      ],
      "metadata": {
        "id": "mhYlDsHhli7L"
      }
    },
    {
      "cell_type": "markdown",
      "source": [
        "資料 input <----> output\n",
        "\n",
        "1. 選擇題: cat/dog ， 梵谷/莫內\n",
        "  * 分類 Classification\n",
        "2. 計算題: 氣溫、房價\n",
        "  * 迴歸 Regression\n",
        "3. 無標註選擇題\n",
        "  * 依照 input 相似度分成數群\n",
        "  * 分群 cluster\n",
        "\n",
        "\n"
      ],
      "metadata": {
        "id": "C5u6pAZB_FWk"
      }
    }
  ]
}