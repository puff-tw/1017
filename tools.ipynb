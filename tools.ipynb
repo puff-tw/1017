{
  "nbformat": 4,
  "nbformat_minor": 0,
  "metadata": {
    "colab": {
      "provenance": [],
      "collapsed_sections": [],
      "authorship_tag": "ABX9TyOf5IV1uh9vgdwPuemZLxjN",
      "include_colab_link": true
    },
    "kernelspec": {
      "name": "python3",
      "display_name": "Python 3"
    },
    "language_info": {
      "name": "python"
    }
  },
  "cells": [
    {
      "cell_type": "markdown",
      "metadata": {
        "id": "view-in-github",
        "colab_type": "text"
      },
      "source": [
        "<a href=\"https://colab.research.google.com/github/puff-tw/1017/blob/main/tools.ipynb\" target=\"_parent\"><img src=\"https://colab.research.google.com/assets/colab-badge.svg\" alt=\"Open In Colab\"/></a>"
      ]
    },
    {
      "cell_type": "code",
      "execution_count": 1,
      "metadata": {
        "colab": {
          "base_uri": "https://localhost:8080/"
        },
        "id": "zVOlxwFDxaNt",
        "outputId": "3273fe96-9eee-4fa6-f21c-b75c74819fa2"
      },
      "outputs": [
        {
          "output_type": "stream",
          "name": "stdout",
          "text": [
            "Looking in indexes: https://pypi.org/simple, https://us-python.pkg.dev/colab-wheels/public/simple/\n",
            "Collecting opencc-python-reimplemented\n",
            "  Downloading opencc-python-reimplemented-0.1.6.tar.gz (484 kB)\n",
            "\u001b[K     |████████████████████████████████| 484 kB 4.4 MB/s \n",
            "\u001b[?25hBuilding wheels for collected packages: opencc-python-reimplemented\n",
            "  Building wheel for opencc-python-reimplemented (setup.py) ... \u001b[?25l\u001b[?25hdone\n",
            "  Created wheel for opencc-python-reimplemented: filename=opencc_python_reimplemented-0.1.6-py2.py3-none-any.whl size=486152 sha256=c71b3089cadcaa618a4b7f3612f889eb15a0823c5a5936f43be61ec5d453ac44\n",
            "  Stored in directory: /root/.cache/pip/wheels/4e/e2/60/d062d260be08788bb389521544a8fc173de9a9a78d6a593344\n",
            "Successfully built opencc-python-reimplemented\n",
            "Installing collected packages: opencc-python-reimplemented\n",
            "Successfully installed opencc-python-reimplemented-0.1.6\n"
          ]
        }
      ],
      "source": [
        "# 2022/11/01\n",
        "# https://pypi.org/project/opencc-python-reimplemented/\n",
        "# 簡中轉繁中常用語\n",
        "# https://github.com/yichen0831/opencc-python/blob/master/opencc/dictionary/TWPhrases.txt\n",
        "!pip install opencc-python-reimplemented"
      ]
    },
    {
      "cell_type": "code",
      "source": [
        "from opencc import OpenCC\n",
        "cc = OpenCC('s2tw')  # convert from Simplified Chinese to Traditional Chinese\n",
        "to_convert = \"\"\"繁体中文。\n",
        "为什么会觉得烦呢？也许让我们学写繁体中文的话，我们可能会烦。\n",
        "主要看所处的环境。\n",
        "如果楼主从一出生就学的是繁体中文的话，现在让你学写简体中文，你也会烦的。如果一个英语为母语的国家，让他们的人民学中文，不管是繁体还是简体都会烦。\n",
        "要你用你的纯母语来书写，应该是最顺手的吧\"\"\"\n",
        "converted = cc.convert(to_convert)\n",
        "converted"
      ],
      "metadata": {
        "colab": {
          "base_uri": "https://localhost:8080/",
          "height": 52
        },
        "id": "hEJ-0AGNxqRy",
        "outputId": "f9572371-03fb-42f1-d3df-5554cc50a964"
      },
      "execution_count": 3,
      "outputs": [
        {
          "output_type": "execute_result",
          "data": {
            "text/plain": [
              "'繁體中文。\\n為什麼會覺得煩呢？也許讓我們學寫繁體中文的話，我們可能會煩。\\n主要看所處的環境。\\n如果樓主從一出生就學的是繁體中文的話，現在讓你學寫簡體中文，你也會煩的。如果一個英語為母語的國家，讓他們的人民學中文，不管是繁體還是簡體都會煩。\\n要你用你的純母語來書寫，應該是最順手的吧'"
            ],
            "application/vnd.google.colaboratory.intrinsic+json": {
              "type": "string"
            }
          },
          "metadata": {},
          "execution_count": 3
        }
      ]
    },
    {
      "cell_type": "code",
      "source": [],
      "metadata": {
        "id": "4LE2jmZSz0bL"
      },
      "execution_count": null,
      "outputs": []
    }
  ]
}